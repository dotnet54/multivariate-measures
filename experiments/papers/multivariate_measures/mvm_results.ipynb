{
 "cells": [
  {
   "cell_type": "code",
   "execution_count": 3,
   "metadata": {
    "collapsed": true
   },
   "outputs": [],
   "source": [
    "import numpy as np\n",
    "import pandas as pd\n",
    "import matplotlib.pyplot as plt\n",
    "import os\n",
    "import sys\n",
    "import glob\n",
    "import seaborn as sns\n",
    "from pathlib import Path\n",
    "from IPython.display import display, HTML\n",
    "import math\n",
    "from scipy import stats\n",
    "import random\n",
    "import statsmodels.api as sm\n",
    "\n",
    "%matplotlib inline\n",
    "\n",
    "pd.set_option(\"display.max_rows\", 100)\n",
    "pd.set_option(\"display.max_columns\", 100)\n",
    "pd.set_option('display.width', 2000)\n",
    "pd.set_option('display.float_format', lambda x: '%.4f' % x)\n",
    "pd.set_option(\"display.max_seq_items\", 100)"
   ]
  },
  {
   "cell_type": "code",
   "execution_count": 4,
   "outputs": [
    {
     "data": {
      "text/plain": "                     dataset  trainsize  testsize  dimensions  length  classes  EUCI-norm  DTWI-norm  DTWD-norm  EUCI+norm  DTWI+norm  DTWD+norm\n0  ArticularyWordRecognition        275       300           9     144       25     0.9700     0.9800     0.9870     0.9700     0.9800     0.9870\n1         AtrialFibrillation         15        15           2     640        3     0.2670     0.2670     0.2000     0.2670     0.2670     0.2200\n2               BasicMotions         40        40           6     100        4     0.6750     1.0000     0.9750     0.6760     1.0000     0.9750\n3      CharacterTrajectories       1422      1436           3     182       20     0.9640     0.9690     0.9900     0.9640     0.9690     0.9890\n4                    Cricket        108        72           6    1197       12     0.9440     0.9860     1.0000     0.9440     0.9860     1.0000",
      "text/html": "<div>\n<style scoped>\n    .dataframe tbody tr th:only-of-type {\n        vertical-align: middle;\n    }\n\n    .dataframe tbody tr th {\n        vertical-align: top;\n    }\n\n    .dataframe thead th {\n        text-align: right;\n    }\n</style>\n<table border=\"1\" class=\"dataframe\">\n  <thead>\n    <tr style=\"text-align: right;\">\n      <th></th>\n      <th>dataset</th>\n      <th>trainsize</th>\n      <th>testsize</th>\n      <th>dimensions</th>\n      <th>length</th>\n      <th>classes</th>\n      <th>EUCI-norm</th>\n      <th>DTWI-norm</th>\n      <th>DTWD-norm</th>\n      <th>EUCI+norm</th>\n      <th>DTWI+norm</th>\n      <th>DTWD+norm</th>\n    </tr>\n  </thead>\n  <tbody>\n    <tr>\n      <th>0</th>\n      <td>ArticularyWordRecognition</td>\n      <td>275</td>\n      <td>300</td>\n      <td>9</td>\n      <td>144</td>\n      <td>25</td>\n      <td>0.9700</td>\n      <td>0.9800</td>\n      <td>0.9870</td>\n      <td>0.9700</td>\n      <td>0.9800</td>\n      <td>0.9870</td>\n    </tr>\n    <tr>\n      <th>1</th>\n      <td>AtrialFibrillation</td>\n      <td>15</td>\n      <td>15</td>\n      <td>2</td>\n      <td>640</td>\n      <td>3</td>\n      <td>0.2670</td>\n      <td>0.2670</td>\n      <td>0.2000</td>\n      <td>0.2670</td>\n      <td>0.2670</td>\n      <td>0.2200</td>\n    </tr>\n    <tr>\n      <th>2</th>\n      <td>BasicMotions</td>\n      <td>40</td>\n      <td>40</td>\n      <td>6</td>\n      <td>100</td>\n      <td>4</td>\n      <td>0.6750</td>\n      <td>1.0000</td>\n      <td>0.9750</td>\n      <td>0.6760</td>\n      <td>1.0000</td>\n      <td>0.9750</td>\n    </tr>\n    <tr>\n      <th>3</th>\n      <td>CharacterTrajectories</td>\n      <td>1422</td>\n      <td>1436</td>\n      <td>3</td>\n      <td>182</td>\n      <td>20</td>\n      <td>0.9640</td>\n      <td>0.9690</td>\n      <td>0.9900</td>\n      <td>0.9640</td>\n      <td>0.9690</td>\n      <td>0.9890</td>\n    </tr>\n    <tr>\n      <th>4</th>\n      <td>Cricket</td>\n      <td>108</td>\n      <td>72</td>\n      <td>6</td>\n      <td>1197</td>\n      <td>12</td>\n      <td>0.9440</td>\n      <td>0.9860</td>\n      <td>1.0000</td>\n      <td>0.9440</td>\n      <td>0.9860</td>\n      <td>1.0000</td>\n    </tr>\n  </tbody>\n</table>\n</div>"
     },
     "metadata": {},
     "output_type": "display_data"
    }
   ],
   "source": [
    "uae_mts_archive = pd.read_csv('/data/mUAE2018.csv')\n",
    "uae_mts_archive = uae_mts_archive[['dataset', 'trainsize', 'testsize', 'dimensions', 'length', 'classes']]\n",
    "\n",
    "uae_mts_results = pd.read_csv('/data/mUAE2018-results.csv')\n",
    "uae_mts_results = uae_mts_archive.merge(uae_mts_results, on='dataset')\n",
    "\n",
    "display(uae_mts_results.head())\n",
    "# print(muae['dimensions'].value_counts())\n",
    "# uae_mts_results['dimensions'].hist(bins=100)"
   ],
   "metadata": {
    "collapsed": false,
    "pycharm": {
     "name": "#%%\n"
    }
   }
  },
  {
   "cell_type": "code",
   "execution_count": 5,
   "outputs": [],
   "source": [
    "def get_datasets_in_path(path, exclude=\".\"):\n",
    "    datasets = [os.path.basename(os.path.dirname(p)) for p in glob.glob(path + \"*/\") if not os.path.basename(os.path.dirname(p)).startswith(exclude) ]\n",
    "    return datasets\n",
    "\n",
    "datasets = \"ERing,BasicMotions,Libras,RacketSports,AtrialFibrillation,NATOPS,Handwriting,Epilepsy,\\\n",
    "            UWaveGestureLibrary,FingerMovements,ArticularyWordRecognition,HandMovementDirection,\\\n",
    "            LSST,StandWalkJump,Cricket,SelfRegulationSCP1,SelfRegulationSCP2,EthanolConcentration,\\\n",
    "            Heartbeat,DuckDuckGeese,PenDigits,PhonemeSpectra,PEMS-SF,MotorImagery,FaceDetection,EigenWorms\".split(\",\")\n",
    "\n",
    "# get_datasets_in_path(\"E:/git/experiments/knn/20-10-2020/sorted/\")"
   ],
   "metadata": {
    "collapsed": false,
    "pycharm": {
     "name": "#%%\n"
    }
   }
  },
  {
   "cell_type": "code",
   "execution_count": null,
   "outputs": [],
   "source": [],
   "metadata": {
    "collapsed": false,
    "pycharm": {
     "name": "#%%\n"
    }
   }
  }
 ],
 "metadata": {
  "kernelspec": {
   "display_name": "Python 3",
   "language": "python",
   "name": "python3"
  },
  "language_info": {
   "codemirror_mode": {
    "name": "ipython",
    "version": 2
   },
   "file_extension": ".py",
   "mimetype": "text/x-python",
   "name": "python",
   "nbconvert_exporter": "python",
   "pygments_lexer": "ipython2",
   "version": "2.7.6"
  }
 },
 "nbformat": 4,
 "nbformat_minor": 0
}
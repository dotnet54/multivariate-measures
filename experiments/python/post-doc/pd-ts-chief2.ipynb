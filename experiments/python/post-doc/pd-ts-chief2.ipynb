{
 "cells": [
  {
   "cell_type": "code",
   "execution_count": 5,
   "metadata": {
    "collapsed": true
   },
   "outputs": [],
   "source": [
    "# post doc experiments - 12-4-2022"
   ]
  },
  {
   "cell_type": "markdown",
   "source": [
    "# Imports\n",
    "------"
   ],
   "metadata": {
    "collapsed": false,
    "pycharm": {
     "name": "#%% md\n"
    }
   }
  },
  {
   "cell_type": "code",
   "execution_count": 6,
   "outputs": [
    {
     "name": "stdout",
     "output_type": "stream",
     "text": [
      "The autoreload extension is already loaded. To reload it, use:\n",
      "  %reload_ext autoreload\n"
     ]
    }
   ],
   "source": [
    "%load_ext autoreload\n",
    "%autoreload 2\n",
    "%matplotlib inline\n",
    "\n",
    "import sys\n",
    "import os\n",
    "import glob\n",
    "import re\n",
    "import datetime\n",
    "import math\n",
    "import random\n",
    "from pathlib import Path\n",
    "import importlib\n",
    "import shutil\n",
    "\n",
    "import numpy as np\n",
    "import pandas as pd\n",
    "import matplotlib.pyplot as plt\n",
    "import seaborn as sns\n",
    "import scipy as sp\n",
    "import statsmodels.api as sm\n",
    "import sklearn as sk\n",
    "from sktime.utils.data_io import load_from_tsfile_to_dataframe\n",
    "from IPython.display import display, HTML, Image, IFrame\n",
    "\n",
    "from termcolor import colored\n",
    "# print(colored('hello', 'red'), colored('world', 'green'))\n",
    "# print(colored(\"hello red world\", 'red'))\n",
    "\n",
    "pd.set_option(\"display.max_rows\", 200)\n",
    "pd.set_option(\"display.max_columns\", 200)\n",
    "pd.set_option('display.width', 2000)\n",
    "pd.set_option('display.float_format', lambda x: '%.4f' % x)\n",
    "pd.set_option(\"display.max_seq_items\", 200)\n",
    "pd.set_option('max_colwidth', 800)"
   ],
   "metadata": {
    "collapsed": false,
    "pycharm": {
     "name": "#%%\n"
    }
   }
  },
  {
   "cell_type": "code",
   "execution_count": 8,
   "outputs": [
    {
     "name": "stdout",
     "output_type": "stream",
     "text": [
      "loading utility modules...\n",
      "utils.py 29-4-2021.1\n",
      "PROJECT_DIR: E:/git/dotnet54/TS-CHIEF-DEV/\n",
      "loading.py 18-6-2021.1\n",
      "aggregating.py 3-11-2021.1\n",
      "critical_diff.py 10-3-2021.1\n"
     ]
    }
   ],
   "source": [
    "PROJECT_DIR  = \"E:/git/dotnet54/TS-CHIEF-DEV/\"\n",
    "SCRIPTS_DIR = f\"{PROJECT_DIR}/experiments/python/\"\n",
    "EXPERIMENT_DIR = \"E:/git/experiments/\"\n",
    "INPUT_DIR = f\"{PROJECT_DIR}/out/\"\n",
    "OUTPUT_DIR = f\"{PROJECT_DIR}/out/\"\n",
    "\n",
    "def load_modules():\n",
    "    print(\"loading utility modules...\")\n",
    "    %run \"E:/git/dotnet54/TS-CHIEF-DEV/experiments/python/utils\"\n",
    "    %run \"E:/git/dotnet54/TS-CHIEF-DEV/experiments/python/loading\"\n",
    "    %run \"E:/git/dotnet54/TS-CHIEF-DEV/experiments/python/aggregating\"\n",
    "    %run \"E:/git/dotnet54/TS-CHIEF-DEV/experiments/python/critical_diff\"\n",
    "#     %run \"E:/git/dotnet54/TS-CHIEF-DEV/experiments/python/plotting\"\n",
    "\n",
    "# load default dataframes\n",
    "# sota_uts_f0 = pd.read_csv(\"sota/sota_uts_f0.csv\")\n",
    "# sota_uts_f30 = pd.read_csv(\"sota/sota_uts_f30.csv\")\n",
    "\n",
    "ucr2015 = pd.read_csv(\"E:/git/dotnet54/TS-CHIEF-DEV/data/ucr2015.csv\", index_col=0)\n",
    "uea2018uts = pd.read_csv(\"E:/git/dotnet54/TS-CHIEF-DEV/data/uts2018.csv\", index_col=0)\n",
    "uea2018mts = pd.read_csv(\"E:/git/dotnet54/TS-CHIEF-DEV/data/mts2018.csv\", index_col=0)\n",
    "\n",
    "load_modules()"
   ],
   "metadata": {
    "collapsed": false,
    "pycharm": {
     "name": "#%%\n"
    }
   }
  },
  {
   "cell_type": "markdown",
   "source": [
    "# Utilities\n",
    "-----"
   ],
   "metadata": {
    "collapsed": false,
    "pycharm": {
     "name": "#%% md\n"
    }
   }
  },
  {
   "cell_type": "code",
   "execution_count": null,
   "outputs": [],
   "source": [],
   "metadata": {
    "collapsed": false,
    "pycharm": {
     "name": "#%%\n"
    }
   }
  },
  {
   "cell_type": "markdown",
   "source": [
    "# Analysis\n",
    "-----"
   ],
   "metadata": {
    "collapsed": false,
    "pycharm": {
     "name": "#%% md\n"
    }
   }
  },
  {
   "cell_type": "code",
   "execution_count": null,
   "outputs": [],
   "source": [],
   "metadata": {
    "collapsed": false,
    "pycharm": {
     "name": "#%%\n"
    }
   }
  },
  {
   "cell_type": "code",
   "execution_count": null,
   "outputs": [],
   "source": [],
   "metadata": {
    "collapsed": false,
    "pycharm": {
     "name": "#%%\n"
    }
   }
  }
 ],
 "metadata": {
  "kernelspec": {
   "display_name": "Python 3",
   "language": "python",
   "name": "python3"
  },
  "language_info": {
   "codemirror_mode": {
    "name": "ipython",
    "version": 2
   },
   "file_extension": ".py",
   "mimetype": "text/x-python",
   "name": "python",
   "nbconvert_exporter": "python",
   "pygments_lexer": "ipython2",
   "version": "2.7.6"
  }
 },
 "nbformat": 4,
 "nbformat_minor": 0
}
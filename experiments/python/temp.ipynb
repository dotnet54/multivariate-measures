{
 "cells": [
  {
   "cell_type": "code",
   "execution_count": 1,
   "metadata": {
    "collapsed": true
   },
   "outputs": [],
   "source": [
    "import numpy as np\n",
    "import pandas as pd\n",
    "import matplotlib.pyplot as plt\n",
    "import os\n",
    "import sys\n",
    "import glob\n",
    "import seaborn as sns\n",
    "from pathlib import Path\n",
    "from IPython.display import display, HTML, Image, IFrame\n",
    "import math\n",
    "from scipy import stats\n",
    "import random\n",
    "import statsmodels.api as sm\n",
    "from colorama import init\n",
    "# init()\n",
    "from termcolor import colored, cprint\n",
    "\n",
    "%matplotlib inline\n",
    "\n",
    "pd.set_option(\"display.max_rows\", 100)\n",
    "pd.set_option(\"display.max_columns\", 100)\n",
    "pd.set_option('display.width', 2000)\n",
    "pd.set_option('display.float_format', lambda x: '%.4f' % x)\n",
    "pd.set_option(\"display.max_seq_items\", 100)"
   ]
  },
  {
   "cell_type": "code",
   "execution_count": null,
   "outputs": [],
   "source": [],
   "metadata": {
    "collapsed": false,
    "pycharm": {
     "name": "#%%\n"
    }
   }
  },
  {
   "cell_type": "code",
   "execution_count": null,
   "outputs": [],
   "source": [],
   "metadata": {
    "collapsed": false,
    "pycharm": {
     "name": "#%%\n"
    }
   }
  },
  {
   "cell_type": "code",
   "execution_count": null,
   "outputs": [],
   "source": [
    "df_tmp = pd.read_csv(f\"E:/git/experiments/knn/10-2-2022/m3/i1d2-norm/test/combined-train.all.csv\", index_col = 0)\n",
    "df_tmp = df_tmp[['dataset', 'trainSize', 'testSize', 'dimensions', 'length', 'classes', 'trainAccuracy', 'name', 'trainTime']]\n",
    "print(df_tmp.shape)\n",
    "print(df_tmp.columns)\n",
    "df_tmp.name.unique()"
   ],
   "metadata": {
    "collapsed": false,
    "pycharm": {
     "name": "#%%\n"
    }
   }
  },
  {
   "cell_type": "code",
   "execution_count": 13,
   "outputs": [
    {
     "data": {
      "text/plain": "       trainTime\nname            \nddtwf   273.2936\nddtwr    61.0983\ndtwf    210.6546\ndtwr     53.3083\nerp      20.5275\neuc       0.9150\nlcss     17.6355\nmsm     351.0927\ntwe     121.6326\nwddtw    87.6717\nwdtw     76.6250",
      "text/html": "<div>\n<style scoped>\n    .dataframe tbody tr th:only-of-type {\n        vertical-align: middle;\n    }\n\n    .dataframe tbody tr th {\n        vertical-align: top;\n    }\n\n    .dataframe thead th {\n        text-align: right;\n    }\n</style>\n<table border=\"1\" class=\"dataframe\">\n  <thead>\n    <tr style=\"text-align: right;\">\n      <th></th>\n      <th>trainTime</th>\n    </tr>\n    <tr>\n      <th>name</th>\n      <th></th>\n    </tr>\n  </thead>\n  <tbody>\n    <tr>\n      <th>ddtwf</th>\n      <td>273.2936</td>\n    </tr>\n    <tr>\n      <th>ddtwr</th>\n      <td>61.0983</td>\n    </tr>\n    <tr>\n      <th>dtwf</th>\n      <td>210.6546</td>\n    </tr>\n    <tr>\n      <th>dtwr</th>\n      <td>53.3083</td>\n    </tr>\n    <tr>\n      <th>erp</th>\n      <td>20.5275</td>\n    </tr>\n    <tr>\n      <th>euc</th>\n      <td>0.9150</td>\n    </tr>\n    <tr>\n      <th>lcss</th>\n      <td>17.6355</td>\n    </tr>\n    <tr>\n      <th>msm</th>\n      <td>351.0927</td>\n    </tr>\n    <tr>\n      <th>twe</th>\n      <td>121.6326</td>\n    </tr>\n    <tr>\n      <th>wddtw</th>\n      <td>87.6717</td>\n    </tr>\n    <tr>\n      <th>wdtw</th>\n      <td>76.6250</td>\n    </tr>\n  </tbody>\n</table>\n</div>"
     },
     "execution_count": 13,
     "metadata": {},
     "output_type": "execute_result"
    }
   ],
   "source": [
    "df_grp = df_tmp[['dataset','trainTime', 'name']].groupby('name').mean()\n",
    "df_grp"
   ],
   "metadata": {
    "collapsed": false,
    "pycharm": {
     "name": "#%%\n"
    }
   }
  },
  {
   "cell_type": "code",
   "execution_count": null,
   "outputs": [],
   "source": [],
   "metadata": {
    "collapsed": false,
    "pycharm": {
     "name": "#%%\n"
    }
   }
  },
  {
   "cell_type": "code",
   "execution_count": null,
   "outputs": [],
   "source": [],
   "metadata": {
    "collapsed": false,
    "pycharm": {
     "name": "#%%\n"
    }
   }
  }
 ],
 "metadata": {
  "kernelspec": {
   "display_name": "Python 3",
   "language": "python",
   "name": "python3"
  },
  "language_info": {
   "codemirror_mode": {
    "name": "ipython",
    "version": 2
   },
   "file_extension": ".py",
   "mimetype": "text/x-python",
   "name": "python",
   "nbconvert_exporter": "python",
   "pygments_lexer": "ipython2",
   "version": "2.7.6"
  }
 },
 "nbformat": 4,
 "nbformat_minor": 0
}
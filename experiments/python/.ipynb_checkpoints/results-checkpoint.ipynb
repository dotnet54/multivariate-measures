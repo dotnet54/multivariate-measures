{
 "cells": [
  {
   "cell_type": "markdown",
   "metadata": {
    "pycharm": {
     "name": "#%% md\n"
    }
   },
   "source": [
    "# Scripts for loading results"
   ]
  },
  {
   "cell_type": "code",
   "execution_count": 17,
   "metadata": {
    "pycharm": {
     "name": "#%%\n"
    }
   },
   "outputs": [],
   "source": [
    "import sys\n",
    "import os\n",
    "import glob\n",
    "import re\n",
    "import datetime\n",
    "import math\n",
    "import random\n",
    "from pathlib import Path\n",
    "import importlib\n",
    "import shutil\n",
    "\n",
    "import numpy as np\n",
    "import pandas as pd\n",
    "import matplotlib.pyplot as plt\n",
    "import seaborn as sns\n",
    "import scipy as sp\n",
    "import statsmodels.api as sm\n",
    "import sklearn as sk\n",
    "from sktime.utils.data_io import load_from_tsfile_to_dataframe\n",
    "from IPython.display import display, HTML\n",
    "\n",
    "%matplotlib inline\n",
    "pd.set_option(\"display.max_rows\", 100)\n",
    "pd.set_option(\"display.max_columns\", 100)\n",
    "pd.set_option('display.width', 2000)\n",
    "pd.set_option('display.float_format', lambda x: '%.4f' % x)\n",
    "pd.set_option(\"display.max_seq_items\", 100)"
   ]
  },
  {
   "cell_type": "code",
   "execution_count": 25,
   "metadata": {
    "pycharm": {
     "name": "#%%\n"
    }
   },
   "outputs": [
    {
     "name": "stdout",
     "output_type": "stream",
     "text": [
      "The autoreload extension is already loaded. To reload it, use:\n",
      "  %reload_ext autoreload\n",
      "loading utility modules...\n",
      "utils.py 29-4-2021.1\n",
      "PROJECT_DIR: E:/git/dotnet54/TS-CHIEF-DEV/\n",
      "loading.py 29-4-2021.1\n",
      "aggregating.py 29-4-2021.1\n"
     ]
    }
   ],
   "source": [
    "%load_ext autoreload\n",
    "\n",
    "PROJECT_DIR  = \"E:/git/dotnet54/TS-CHIEF-DEV/\"\n",
    "SCRIPTS_DIR = f\"{PROJECT_DIR}/experiments/python/\"\n",
    "def load_modules():\n",
    "    %reload_ext autoreload\n",
    "    %autoreload 2\n",
    "\n",
    "    print(\"loading utility modules...\")\n",
    "    %run \"E:/git/dotnet54/TS-CHIEF-DEV/experiments/python/utils\"\n",
    "    %run \"E:/git/dotnet54/TS-CHIEF-DEV/experiments/python/loading\"\n",
    "    %run \"E:/git/dotnet54/TS-CHIEF-DEV/experiments/python/aggregating\"\n",
    "    # %run \"E:/git/dotnet54/TS-CHIEF-DEV/experiments/python/plotting\"\n",
    "\n",
    "load_modules()"
   ]
  },
  {
   "cell_type": "markdown",
   "metadata": {
    "pycharm": {
     "name": "#%% md\n"
    }
   },
   "source": [
    "## Testing"
   ]
  },
  {
   "cell_type": "code",
   "execution_count": 26,
   "metadata": {
    "pycharm": {
     "name": "#%%\n"
    }
   },
   "outputs": [
    {
     "name": "stdout",
     "output_type": "stream",
     "text": [
      "The autoreload extension is already loaded. To reload it, use:\n",
      "  %reload_ext autoreload\n",
      "utils.py 29-4-2021.1\n",
      "PROJECT_DIR: E:/git/dotnet54/TS-CHIEF-DEV/\n"
     ]
    }
   ],
   "source": [
    "%load_ext autoreload\n",
    "%autoreload 2\n",
    "\n",
    "%run \"E:/git/dotnet54/TS-CHIEF-DEV/experiments/python/utils\"\n",
    "\n",
    "# from experiments.python.loading import *\n",
    "\n",
    "INPUT = f\"E:/git/experiments/thesis/out/0105/\"\n",
    "OUTPUT = f\"E:/git/dotnet54/TS-CHIEF-DEV/experiments/thesis/data/tmp/\"\n",
    "\n",
    "# tmp =  load_forest_csv(\"k500e5\", input_dir=INPUT, output_dir=OUTPUT, num_folds=1, num_repeats=1,\n",
    "#                 save_intermediate=True, save=True, verbosity=0)\n",
    "# tmp.head()"
   ]
  },
  {
   "cell_type": "markdown",
   "metadata": {
    "pycharm": {
     "name": "#%% md\n"
    }
   },
   "source": [
    "## Experiments"
   ]
  },
  {
   "cell_type": "code",
   "execution_count": null,
   "metadata": {
    "pycharm": {
     "name": "#%%\n"
    }
   },
   "outputs": [],
   "source": [
    "\n",
    "load_forest_csv(\"k500e5\", input_dir=INPUT, output_dir=OUTPUT, num_folds=1, num_repeats=1,\n",
    "                save_intermediate=True, save=True, verbosity=0)\n",
    "load_forest_csv(\"k500b100\", input_dir=INPUT, output_dir=OUTPUT, num_folds=1, num_repeats=1,\n",
    "                save_intermediate=True, save=True, verbosity=0)\n",
    "load_forest_csv(\"k500r100\", input_dir=INPUT, output_dir=OUTPUT, num_folds=1, num_repeats=1,\n",
    "                save_intermediate=True, save=True, verbosity=0)\n",
    "\n",
    "load_forest_csv(\"k500b100_bv1\", input_dir=INPUT, output_dir=OUTPUT, num_folds=1, num_repeats=1,\n",
    "                save_intermediate=True, save=True, verbosity=0)\n",
    "load_forest_csv(\"k500r100_rv1\", input_dir=INPUT, output_dir=OUTPUT, num_folds=1, num_repeats=1,\n",
    "                save_intermediate=True, save=True, verbosity=0)"
   ]
  },
  {
   "cell_type": "markdown",
   "metadata": {},
   "source": [
    "## WORK AREA"
   ]
  },
  {
   "cell_type": "code",
   "execution_count": 45,
   "metadata": {},
   "outputs": [
    {
     "name": "stdout",
     "output_type": "stream",
     "text": [
      "plotting.py 29-4-2021.1\n"
     ]
    }
   ],
   "source": [
    "%run \"E:/git/dotnet54/TS-CHIEF-DEV/experiments/python/plotting\""
   ]
  },
  {
   "cell_type": "code",
   "execution_count": 46,
   "metadata": {
    "pycharm": {
     "name": "#%%\n"
    }
   },
   "outputs": [
    {
     "ename": "TypeError",
     "evalue": "'NoneType' object is not subscriptable",
     "output_type": "error",
     "traceback": [
      "\u001b[1;31m---------------------------------------------------------------------------\u001b[0m",
      "\u001b[1;31mTypeError\u001b[0m                                 Traceback (most recent call last)",
      "\u001b[1;32m<ipython-input-46-9ba78be0e477>\u001b[0m in \u001b[0;36m<module>\u001b[1;34m\u001b[0m\n\u001b[0;32m      6\u001b[0m \u001b[1;32mfrom\u001b[0m \u001b[0mplotting\u001b[0m \u001b[1;32mimport\u001b[0m \u001b[0mscatter\u001b[0m\u001b[1;33m\u001b[0m\u001b[1;33m\u001b[0m\u001b[0m\n\u001b[0;32m      7\u001b[0m \u001b[1;33m\u001b[0m\u001b[0m\n\u001b[1;32m----> 8\u001b[1;33m \u001b[0mscatter\u001b[0m\u001b[1;33m(\u001b[0m\u001b[0mtmp\u001b[0m\u001b[1;33m[\u001b[0m\u001b[1;34m'accuracy_x'\u001b[0m\u001b[1;33m]\u001b[0m\u001b[1;33m,\u001b[0m \u001b[0mtmp\u001b[0m\u001b[1;33m[\u001b[0m\u001b[1;34m'accuracy_y'\u001b[0m\u001b[1;33m]\u001b[0m\u001b[1;33m)\u001b[0m\u001b[1;33m\u001b[0m\u001b[1;33m\u001b[0m\u001b[0m\n\u001b[0m",
      "\u001b[1;32mE:\\git\\dotnet54\\TS-CHIEF-DEV\\experiments\\python\\plotting.py\u001b[0m in \u001b[0;36mscatter\u001b[1;34m(xdf, ydf, exp, yexp, xcol, ycol, xlabel, ylabel, match_on, label_datasets, figsize, output_dir, file, archive_info, color, size, annotate, ant_delta, ant_max_len, ant_col, xlim, ylim)\u001b[0m\n\u001b[0;32m     36\u001b[0m     \u001b[1;32melse\u001b[0m\u001b[1;33m:\u001b[0m\u001b[1;33m\u001b[0m\u001b[1;33m\u001b[0m\u001b[0m\n\u001b[0;32m     37\u001b[0m         \u001b[0mxkey\u001b[0m \u001b[1;33m=\u001b[0m \u001b[0mxdf\u001b[0m\u001b[1;33m\u001b[0m\u001b[1;33m\u001b[0m\u001b[0m\n\u001b[1;32m---> 38\u001b[1;33m         \u001b[0mxdf\u001b[0m \u001b[1;33m=\u001b[0m \u001b[0mexp\u001b[0m\u001b[1;33m[\u001b[0m\u001b[0mxdf\u001b[0m\u001b[1;33m]\u001b[0m\u001b[1;33m\u001b[0m\u001b[1;33m\u001b[0m\u001b[0m\n\u001b[0m\u001b[0;32m     39\u001b[0m         \u001b[0mxlabel\u001b[0m \u001b[1;33m=\u001b[0m \u001b[0mxkey\u001b[0m\u001b[1;33m\u001b[0m\u001b[1;33m\u001b[0m\u001b[0m\n\u001b[0;32m     40\u001b[0m \u001b[1;33m\u001b[0m\u001b[0m\n",
      "\u001b[1;31mTypeError\u001b[0m: 'NoneType' object is not subscriptable"
     ]
    }
   ],
   "source": [
    "# tmp = read_csv(\"k500b100.all_forest\", input_dir=OUTPUT)\n",
    "\n",
    "tmp = read_and_merge_csv(\"k500b100.all_forest\", \"k500b100_bv1.all_forest\", input_dir=OUTPUT)[0]\n",
    "tmp.head()\n",
    "\n",
    "from plotting import scatter \n",
    "\n",
    "scatter(tmp['accuracy_x'], tmp['accuracy_y'])\n"
   ]
  },
  {
   "cell_type": "code",
   "execution_count": null,
   "metadata": {
    "pycharm": {
     "name": "#%%\n"
    }
   },
   "outputs": [],
   "source": []
  },
  {
   "cell_type": "code",
   "execution_count": null,
   "metadata": {
    "pycharm": {
     "name": "#%%\n"
    }
   },
   "outputs": [],
   "source": [
    "load_modules()\n",
    "\n",
    "# %run \"E:/git/dotnet54/TS-CHIEF-DEV/experiments/python/utils\"\n",
    "\n",
    "INPUT = f\"E:/git/experiments/mpf/11-2-2020/0704/topk/\"\n",
    "OUTPUT = f\"E:/git/experiments/mpf/11-2-2020/0704/topk/\"\n",
    "exp_topk = load_experiments(input_dir = INPUT, output_dir = OUTPUT)\n",
    "\n",
    "print(exp_topk.keys())"
   ]
  },
  {
   "cell_type": "code",
   "execution_count": null,
   "metadata": {
    "pycharm": {
     "name": "#%%\n"
    }
   },
   "outputs": [],
   "source": [
    "INPUT = f\"{PROJECT_DIR}/out/test/topk/\"\n",
    "OUTPUT = f\"{PROJECT_DIR}/out/test/topk/\"\n",
    "\n",
    "df_exp = load_experiments(input_dir=INPUT, output_dir=OUTPUT)"
   ]
  }
 ],
 "metadata": {
  "kernelspec": {
   "display_name": "Python 3",
   "language": "python",
   "name": "python3"
  },
  "language_info": {
   "codemirror_mode": {
    "name": "ipython",
    "version": 3
   },
   "file_extension": ".py",
   "mimetype": "text/x-python",
   "name": "python",
   "nbconvert_exporter": "python",
   "pygments_lexer": "ipython3",
   "version": "3.8.5"
  }
 },
 "nbformat": 4,
 "nbformat_minor": 4
}

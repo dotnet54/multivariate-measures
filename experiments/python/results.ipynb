{
 "cells": [
  {
   "cell_type": "markdown",
   "metadata": {
    "pycharm": {
     "name": "#%% md\n"
    }
   },
   "source": [
    "# Scripts for loading results"
   ]
  },
  {
   "cell_type": "code",
   "execution_count": 2,
   "metadata": {
    "pycharm": {
     "name": "#%%\n"
    }
   },
   "outputs": [],
   "source": [
    "import sys\n",
    "import os\n",
    "import glob\n",
    "import re\n",
    "import datetime\n",
    "import math\n",
    "import random\n",
    "from pathlib import Path\n",
    "import importlib\n",
    "import shutil\n",
    "\n",
    "import numpy as np\n",
    "import pandas as pd\n",
    "import matplotlib.pyplot as plt\n",
    "import seaborn as sns\n",
    "import scipy as sp\n",
    "import statsmodels.api as sm\n",
    "import sklearn as sk\n",
    "from sktime.utils.data_io import load_from_tsfile_to_dataframe\n",
    "from IPython.display import display, HTML\n",
    "\n",
    "from experiments.python.aggregating import get_agg_matrix\n",
    "from experiments.python.loading import load_experiments\n",
    "\n",
    "%matplotlib inline\n",
    "pd.set_option(\"display.max_rows\", 100)\n",
    "pd.set_option(\"display.max_columns\", 100)\n",
    "pd.set_option('display.width', 2000)\n",
    "pd.set_option('display.float_format', lambda x: '%.4f' % x)\n",
    "pd.set_option(\"display.max_seq_items\", 100)"
   ]
  },
  {
   "cell_type": "code",
   "execution_count": 3,
   "metadata": {
    "pycharm": {
     "name": "#%%\n"
    }
   },
   "outputs": [
    {
     "name": "stdout",
     "output_type": "stream",
     "text": [
      "loading utility modules...\n",
      "utils.py 29-4-2021.1\n",
      "PROJECT_DIR: E:/git/dotnet54/TS-CHIEF-DEV/\n",
      "utils.py 29-4-2021.1\n",
      "PROJECT_DIR: E:/git/dotnet54/TS-CHIEF-DEV/\n",
      "loading.py 16-5-2021.1\n",
      "aggregating.py 29-4-2021.1\n"
     ]
    }
   ],
   "source": [
    "%load_ext autoreload\n",
    "\n",
    "PROJECT_DIR  = \"E:/git/dotnet54/TS-CHIEF-DEV/\"\n",
    "SCRIPTS_DIR = f\"{PROJECT_DIR}/experiments/python/\"\n",
    "def load_modules():\n",
    "    %reload_ext autoreload\n",
    "    %autoreload 2\n",
    "\n",
    "    print(\"loading utility modules...\")\n",
    "    %run \"E:/git/dotnet54/TS-CHIEF-DEV/experiments/python/utils\"\n",
    "    %run \"E:/git/dotnet54/TS-CHIEF-DEV/experiments/python/loading\"\n",
    "    %run \"E:/git/dotnet54/TS-CHIEF-DEV/experiments/python/aggregating\"\n",
    "    # %run \"E:/git/dotnet54/TS-CHIEF-DEV/experiments/python/plotting\"\n",
    "\n",
    "load_modules()"
   ]
  },
  {
   "cell_type": "markdown",
   "metadata": {
    "pycharm": {
     "name": "#%% md\n"
    }
   },
   "source": [
    "## Testing"
   ]
  },
  {
   "cell_type": "code",
   "execution_count": 37,
   "outputs": [
    {
     "name": "stdout",
     "output_type": "stream",
     "text": [
      "loading utility modules...\n",
      "utils.py 29-4-2021.1\n",
      "PROJECT_DIR: E:/git/dotnet54/TS-CHIEF-DEV/\n",
      "loading.py 18-6-2021.1\n",
      "aggregating.py 18-6-2021.1\n",
      "load_experiments:: 1. loading k100e1 from cache\n",
      "load_experiments:: 3. loading k100e2 from cache\n",
      "dict_keys(['k100e1', 'k100e2'])\n"
     ]
    },
    {
     "data": {
      "text/plain": "       batch_index exp_name            timestamp      dataset  train_size  test_size  dimensions  length  classes  accuracy  error_rate  correct  errors  total_time_s  total_time_hr  train_time_hr  test_time_hr total_time_formatted train_time_formatted test_time_formatted  train_time_ns  test_time_ns  init_time_ns         rand_seed  threads  cpus hostname version build_date                version_tag  experiment_name experiment_id  normalize  shuffle  fold_no  repeat_no  train_classes  test_classes  max_memory  total_memory  free_memory  free_memory_after_init  free_memory_after_train  free_memory_after_test  alloc_memory  alloc_memory_after_init  alloc_memory_after_train  alloc_memory_after_test  max_mem_usage  num_trees  ... wddtw_win lcss_win  twe_win  erp_win  msm_win           ee_time  boss_time  rif_time  cif_time  randf_time  rotf_time  st_time  tsf_time  it_time  rt_time       euc_time       dtwf_time        dtw_time      ddtwf_time        ddtw_time        wdtw_time       wddtw_time       lcss_time         twe_time         erp_time         msm_time  rif_acf_count  rif_pacf_count  rif_arma_count  rif_ps_count  rif_dft_count  rif_acf_win  rif_pacf_win  rif_arma_win  rif_ps_win  rif_dft_win  rif_acf_time  rif_pacf_time  rif_arma_time  rif_ps_time  rif_dft_time  tree_accuracy_mean tree_accuracy_std tree_total_time_s_mean  tree_total_time_s_std                                               args  boss_transform_time  st_transform_time  it_transform_time  rt_transform_time\nindex                                                                                                                                                                                                                                                                                                                                                                                                                                                                                                                                                                                                                                                                                                                                                        ...                                                                                                                                                                                                                                                                                                                                                                                                                                                                                                                                                                                                                                                                                                                                                                                          \n0                0   k100e1  13-06-2021 19:47:24        Adiac         390        391           1     176       37    0.7033      0.2967      275     116       20.1922         0.0056         0.0027        0.0029         0-0:0:20.192          0-0:0:9.593        0-0:0:10.598     9593722423   10598509152         67476  8478120861627832        0    16   m3h005   2.1.1  2021.6.01  chief-refactored-2-thesis              NaN      df6c69df      False    False        0          0             37            37       48000           616          391                     391                      245                     212           225                      225                       371                      404       504.0000        100  ...  844.0000 898.0000 927.0000 947.0000 921.0000 122838710603.0000     0.0000    0.0000    0.0000      0.0000     0.0000   0.0000    0.0000   0.0000   0.0000 120087959.0000 5105351871.0000 4764289670.0000 7632134594.0000 12694762161.0000 22644608237.0000 20426511564.0000 3832804995.0000 80774358334.0000 11769630043.0000 78130618141.0000         0.0000          0.0000          0.0000        0.0000         0.0000       0.0000        0.0000        0.0000      0.0000       0.0000        0.0000         0.0000         0.0000       0.0000        0.0000              0.4946            0.1087                 2.5842                 2.4773  -data=../data/ -archive=Univariate2018_ts -ove...               0.0000             0.0000             0.0000             0.0000\n1                1   k100e1  13-06-2021 19:42:20    ArrowHead          36        175           1     251        3    0.8514      0.1486      149      26        2.1668         0.0006         0.0001        0.0005          0-0:0:2.166          0-0:0:0.345         0-0:0:1.821      345312838    1821500663         54997  8478120861627832        0    16   m3h005   2.1.1  2021.6.01  chief-refactored-2-thesis              NaN      df6c69df      False    False        0          0              3             3       48000           216          134                     134                      145                      65            82                       82                        71                      151       151.0000        100  ...  109.0000 113.0000 111.0000 112.0000  87.0000   4615304805.0000     0.0000    0.0000    0.0000      0.0000     0.0000   0.0000    0.0000   0.0000   0.0000   7651697.0000  776602734.0000  625222862.0000 1117474886.0000  1166233923.0000  3655404860.0000  5870155762.0000  664484971.0000  8341606915.0000  1590647295.0000  5780816322.0000         0.0000          0.0000          0.0000        0.0000         0.0000       0.0000        0.0000        0.0000      0.0000       0.0000        0.0000         0.0000         0.0000       0.0000        0.0000              0.7025            0.0705                 0.2998                 0.1426  -data=../data/ -archive=Univariate2018_ts -ove...               0.0000             0.0000             0.0000             0.0000\n2                2   k100e1  13-06-2021 19:42:58         Beef          30         30           1     470        5    0.7000      0.3000       21       9        2.4181         0.0007         0.0003        0.0004          0-0:0:2.418          0-0:0:1.079         0-0:0:1.338     1079091181    1338968378         83940  8478120861627832        0    16   m3h005   2.1.1  2021.6.01  chief-refactored-2-thesis              NaN      df6c69df      False    False        0          0              5             5       48000           464          315                     315                      208                     238           149                      149                       256                      226       290.0000        100  ...  122.0000  97.0000  94.0000 124.0000 100.0000  14337122509.0000     0.0000    0.0000    0.0000      0.0000     0.0000   0.0000    0.0000   0.0000   0.0000   3042048.0000  497005909.0000  447446664.0000 1197307928.0000  1391885264.0000  2875543330.0000  3211967942.0000  484158653.0000  7070909153.0000  1881115540.0000 11033657352.0000         0.0000          0.0000          0.0000        0.0000         0.0000       0.0000        0.0000        0.0000      0.0000       0.0000        0.0000         0.0000         0.0000       0.0000        0.0000              0.5847            0.0918                 0.3253                 0.2076  -data=../data/ -archive=Univariate2018_ts -ove...               0.0000             0.0000             0.0000             0.0000\n3                3   k100e1  13-06-2021 19:42:24    BeetleFly          20         20           1     512        2    0.6500      0.3500       13       7        1.3727         0.0004         0.0002        0.0002          0-0:0:1.372          0-0:0:0.596         0-0:0:0.776      596536920     776138358        117772  8478120861627832        0    16   m3h005   2.1.1  2021.6.01  chief-refactored-2-thesis              NaN      df6c69df      False    False        0          0              2             2       48000           456          213                     213                      147                     271           123                      123                       189                      185       195.0000        100  ...  123.0000  98.0000  86.0000  95.0000  93.0000   8454996953.0000     0.0000    0.0000    0.0000      0.0000     0.0000   0.0000    0.0000   0.0000   0.0000   2227365.0000  396059319.0000  264020223.0000  601003399.0000   607146447.0000  2214497735.0000  4040519282.0000  489359118.0000  4085041121.0000   790970369.0000  4963281982.0000         0.0000          0.0000          0.0000        0.0000         0.0000       0.0000        0.0000        0.0000      0.0000       0.0000        0.0000         0.0000         0.0000       0.0000        0.0000              0.6295            0.1299                 0.1926                 0.0775  -data=../data/ -archive=Univariate2018_ts -ove...               0.0000             0.0000             0.0000             0.0000\n4                4   k100e1  13-06-2021 19:42:22  BirdChicken          20         20           1     512        2    0.8500      0.1500       17       3        1.4695         0.0004         0.0002        0.0002          0-0:0:1.469          0-0:0:0.698         0-0:0:0.771      698475429     771009258         74144  8478120861627832        0    16   m3h005   2.1.1  2021.6.01  chief-refactored-2-thesis              NaN      df6c69df      False    False        0          0              2             2       48000           336          146                     146                      173                     202            70                       70                       163                      134       216.0000        100  ...   76.0000  84.0000  91.0000  84.0000 101.0000   9560607713.0000     0.0000    0.0000    0.0000      0.0000     0.0000   0.0000    0.0000   0.0000   0.0000   2192888.0000  344598952.0000  459372227.0000  661494400.0000   566249672.0000  1736267857.0000  2843990724.0000  556396867.0000  5058859088.0000   903223116.0000  6308658431.0000         0.0000          0.0000          0.0000        0.0000         0.0000       0.0000        0.0000        0.0000      0.0000       0.0000        0.0000         0.0000         0.0000       0.0000        0.0000              0.6985            0.1113                 0.2019                 0.0927  -data=../data/ -archive=Univariate2018_ts -ove...               0.0000             0.0000             0.0000             0.0000\n\n[5 rows x 166 columns]",
      "text/html": "<div>\n<style scoped>\n    .dataframe tbody tr th:only-of-type {\n        vertical-align: middle;\n    }\n\n    .dataframe tbody tr th {\n        vertical-align: top;\n    }\n\n    .dataframe thead th {\n        text-align: right;\n    }\n</style>\n<table border=\"1\" class=\"dataframe\">\n  <thead>\n    <tr style=\"text-align: right;\">\n      <th></th>\n      <th>batch_index</th>\n      <th>exp_name</th>\n      <th>timestamp</th>\n      <th>dataset</th>\n      <th>train_size</th>\n      <th>test_size</th>\n      <th>dimensions</th>\n      <th>length</th>\n      <th>classes</th>\n      <th>accuracy</th>\n      <th>error_rate</th>\n      <th>correct</th>\n      <th>errors</th>\n      <th>total_time_s</th>\n      <th>total_time_hr</th>\n      <th>train_time_hr</th>\n      <th>test_time_hr</th>\n      <th>total_time_formatted</th>\n      <th>train_time_formatted</th>\n      <th>test_time_formatted</th>\n      <th>train_time_ns</th>\n      <th>test_time_ns</th>\n      <th>init_time_ns</th>\n      <th>rand_seed</th>\n      <th>threads</th>\n      <th>cpus</th>\n      <th>hostname</th>\n      <th>version</th>\n      <th>build_date</th>\n      <th>version_tag</th>\n      <th>experiment_name</th>\n      <th>experiment_id</th>\n      <th>normalize</th>\n      <th>shuffle</th>\n      <th>fold_no</th>\n      <th>repeat_no</th>\n      <th>train_classes</th>\n      <th>test_classes</th>\n      <th>max_memory</th>\n      <th>total_memory</th>\n      <th>free_memory</th>\n      <th>free_memory_after_init</th>\n      <th>free_memory_after_train</th>\n      <th>free_memory_after_test</th>\n      <th>alloc_memory</th>\n      <th>alloc_memory_after_init</th>\n      <th>alloc_memory_after_train</th>\n      <th>alloc_memory_after_test</th>\n      <th>max_mem_usage</th>\n      <th>num_trees</th>\n      <th>...</th>\n      <th>wddtw_win</th>\n      <th>lcss_win</th>\n      <th>twe_win</th>\n      <th>erp_win</th>\n      <th>msm_win</th>\n      <th>ee_time</th>\n      <th>boss_time</th>\n      <th>rif_time</th>\n      <th>cif_time</th>\n      <th>randf_time</th>\n      <th>rotf_time</th>\n      <th>st_time</th>\n      <th>tsf_time</th>\n      <th>it_time</th>\n      <th>rt_time</th>\n      <th>euc_time</th>\n      <th>dtwf_time</th>\n      <th>dtw_time</th>\n      <th>ddtwf_time</th>\n      <th>ddtw_time</th>\n      <th>wdtw_time</th>\n      <th>wddtw_time</th>\n      <th>lcss_time</th>\n      <th>twe_time</th>\n      <th>erp_time</th>\n      <th>msm_time</th>\n      <th>rif_acf_count</th>\n      <th>rif_pacf_count</th>\n      <th>rif_arma_count</th>\n      <th>rif_ps_count</th>\n      <th>rif_dft_count</th>\n      <th>rif_acf_win</th>\n      <th>rif_pacf_win</th>\n      <th>rif_arma_win</th>\n      <th>rif_ps_win</th>\n      <th>rif_dft_win</th>\n      <th>rif_acf_time</th>\n      <th>rif_pacf_time</th>\n      <th>rif_arma_time</th>\n      <th>rif_ps_time</th>\n      <th>rif_dft_time</th>\n      <th>tree_accuracy_mean</th>\n      <th>tree_accuracy_std</th>\n      <th>tree_total_time_s_mean</th>\n      <th>tree_total_time_s_std</th>\n      <th>args</th>\n      <th>boss_transform_time</th>\n      <th>st_transform_time</th>\n      <th>it_transform_time</th>\n      <th>rt_transform_time</th>\n    </tr>\n    <tr>\n      <th>index</th>\n      <th></th>\n      <th></th>\n      <th></th>\n      <th></th>\n      <th></th>\n      <th></th>\n      <th></th>\n      <th></th>\n      <th></th>\n      <th></th>\n      <th></th>\n      <th></th>\n      <th></th>\n      <th></th>\n      <th></th>\n      <th></th>\n      <th></th>\n      <th></th>\n      <th></th>\n      <th></th>\n      <th></th>\n      <th></th>\n      <th></th>\n      <th></th>\n      <th></th>\n      <th></th>\n      <th></th>\n      <th></th>\n      <th></th>\n      <th></th>\n      <th></th>\n      <th></th>\n      <th></th>\n      <th></th>\n      <th></th>\n      <th></th>\n      <th></th>\n      <th></th>\n      <th></th>\n      <th></th>\n      <th></th>\n      <th></th>\n      <th></th>\n      <th></th>\n      <th></th>\n      <th></th>\n      <th></th>\n      <th></th>\n      <th></th>\n      <th></th>\n      <th></th>\n      <th></th>\n      <th></th>\n      <th></th>\n      <th></th>\n      <th></th>\n      <th></th>\n      <th></th>\n      <th></th>\n      <th></th>\n      <th></th>\n      <th></th>\n      <th></th>\n      <th></th>\n      <th></th>\n      <th></th>\n      <th></th>\n      <th></th>\n      <th></th>\n      <th></th>\n      <th></th>\n      <th></th>\n      <th></th>\n      <th></th>\n      <th></th>\n      <th></th>\n      <th></th>\n      <th></th>\n      <th></th>\n      <th></th>\n      <th></th>\n      <th></th>\n      <th></th>\n      <th></th>\n      <th></th>\n      <th></th>\n      <th></th>\n      <th></th>\n      <th></th>\n      <th></th>\n      <th></th>\n      <th></th>\n      <th></th>\n      <th></th>\n      <th></th>\n      <th></th>\n      <th></th>\n      <th></th>\n      <th></th>\n      <th></th>\n      <th></th>\n    </tr>\n  </thead>\n  <tbody>\n    <tr>\n      <th>0</th>\n      <td>0</td>\n      <td>k100e1</td>\n      <td>13-06-2021 19:47:24</td>\n      <td>Adiac</td>\n      <td>390</td>\n      <td>391</td>\n      <td>1</td>\n      <td>176</td>\n      <td>37</td>\n      <td>0.7033</td>\n      <td>0.2967</td>\n      <td>275</td>\n      <td>116</td>\n      <td>20.1922</td>\n      <td>0.0056</td>\n      <td>0.0027</td>\n      <td>0.0029</td>\n      <td>0-0:0:20.192</td>\n      <td>0-0:0:9.593</td>\n      <td>0-0:0:10.598</td>\n      <td>9593722423</td>\n      <td>10598509152</td>\n      <td>67476</td>\n      <td>8478120861627832</td>\n      <td>0</td>\n      <td>16</td>\n      <td>m3h005</td>\n      <td>2.1.1</td>\n      <td>2021.6.01</td>\n      <td>chief-refactored-2-thesis</td>\n      <td>NaN</td>\n      <td>df6c69df</td>\n      <td>False</td>\n      <td>False</td>\n      <td>0</td>\n      <td>0</td>\n      <td>37</td>\n      <td>37</td>\n      <td>48000</td>\n      <td>616</td>\n      <td>391</td>\n      <td>391</td>\n      <td>245</td>\n      <td>212</td>\n      <td>225</td>\n      <td>225</td>\n      <td>371</td>\n      <td>404</td>\n      <td>504.0000</td>\n      <td>100</td>\n      <td>...</td>\n      <td>844.0000</td>\n      <td>898.0000</td>\n      <td>927.0000</td>\n      <td>947.0000</td>\n      <td>921.0000</td>\n      <td>122838710603.0000</td>\n      <td>0.0000</td>\n      <td>0.0000</td>\n      <td>0.0000</td>\n      <td>0.0000</td>\n      <td>0.0000</td>\n      <td>0.0000</td>\n      <td>0.0000</td>\n      <td>0.0000</td>\n      <td>0.0000</td>\n      <td>120087959.0000</td>\n      <td>5105351871.0000</td>\n      <td>4764289670.0000</td>\n      <td>7632134594.0000</td>\n      <td>12694762161.0000</td>\n      <td>22644608237.0000</td>\n      <td>20426511564.0000</td>\n      <td>3832804995.0000</td>\n      <td>80774358334.0000</td>\n      <td>11769630043.0000</td>\n      <td>78130618141.0000</td>\n      <td>0.0000</td>\n      <td>0.0000</td>\n      <td>0.0000</td>\n      <td>0.0000</td>\n      <td>0.0000</td>\n      <td>0.0000</td>\n      <td>0.0000</td>\n      <td>0.0000</td>\n      <td>0.0000</td>\n      <td>0.0000</td>\n      <td>0.0000</td>\n      <td>0.0000</td>\n      <td>0.0000</td>\n      <td>0.0000</td>\n      <td>0.0000</td>\n      <td>0.4946</td>\n      <td>0.1087</td>\n      <td>2.5842</td>\n      <td>2.4773</td>\n      <td>-data=../data/ -archive=Univariate2018_ts -ove...</td>\n      <td>0.0000</td>\n      <td>0.0000</td>\n      <td>0.0000</td>\n      <td>0.0000</td>\n    </tr>\n    <tr>\n      <th>1</th>\n      <td>1</td>\n      <td>k100e1</td>\n      <td>13-06-2021 19:42:20</td>\n      <td>ArrowHead</td>\n      <td>36</td>\n      <td>175</td>\n      <td>1</td>\n      <td>251</td>\n      <td>3</td>\n      <td>0.8514</td>\n      <td>0.1486</td>\n      <td>149</td>\n      <td>26</td>\n      <td>2.1668</td>\n      <td>0.0006</td>\n      <td>0.0001</td>\n      <td>0.0005</td>\n      <td>0-0:0:2.166</td>\n      <td>0-0:0:0.345</td>\n      <td>0-0:0:1.821</td>\n      <td>345312838</td>\n      <td>1821500663</td>\n      <td>54997</td>\n      <td>8478120861627832</td>\n      <td>0</td>\n      <td>16</td>\n      <td>m3h005</td>\n      <td>2.1.1</td>\n      <td>2021.6.01</td>\n      <td>chief-refactored-2-thesis</td>\n      <td>NaN</td>\n      <td>df6c69df</td>\n      <td>False</td>\n      <td>False</td>\n      <td>0</td>\n      <td>0</td>\n      <td>3</td>\n      <td>3</td>\n      <td>48000</td>\n      <td>216</td>\n      <td>134</td>\n      <td>134</td>\n      <td>145</td>\n      <td>65</td>\n      <td>82</td>\n      <td>82</td>\n      <td>71</td>\n      <td>151</td>\n      <td>151.0000</td>\n      <td>100</td>\n      <td>...</td>\n      <td>109.0000</td>\n      <td>113.0000</td>\n      <td>111.0000</td>\n      <td>112.0000</td>\n      <td>87.0000</td>\n      <td>4615304805.0000</td>\n      <td>0.0000</td>\n      <td>0.0000</td>\n      <td>0.0000</td>\n      <td>0.0000</td>\n      <td>0.0000</td>\n      <td>0.0000</td>\n      <td>0.0000</td>\n      <td>0.0000</td>\n      <td>0.0000</td>\n      <td>7651697.0000</td>\n      <td>776602734.0000</td>\n      <td>625222862.0000</td>\n      <td>1117474886.0000</td>\n      <td>1166233923.0000</td>\n      <td>3655404860.0000</td>\n      <td>5870155762.0000</td>\n      <td>664484971.0000</td>\n      <td>8341606915.0000</td>\n      <td>1590647295.0000</td>\n      <td>5780816322.0000</td>\n      <td>0.0000</td>\n      <td>0.0000</td>\n      <td>0.0000</td>\n      <td>0.0000</td>\n      <td>0.0000</td>\n      <td>0.0000</td>\n      <td>0.0000</td>\n      <td>0.0000</td>\n      <td>0.0000</td>\n      <td>0.0000</td>\n      <td>0.0000</td>\n      <td>0.0000</td>\n      <td>0.0000</td>\n      <td>0.0000</td>\n      <td>0.0000</td>\n      <td>0.7025</td>\n      <td>0.0705</td>\n      <td>0.2998</td>\n      <td>0.1426</td>\n      <td>-data=../data/ -archive=Univariate2018_ts -ove...</td>\n      <td>0.0000</td>\n      <td>0.0000</td>\n      <td>0.0000</td>\n      <td>0.0000</td>\n    </tr>\n    <tr>\n      <th>2</th>\n      <td>2</td>\n      <td>k100e1</td>\n      <td>13-06-2021 19:42:58</td>\n      <td>Beef</td>\n      <td>30</td>\n      <td>30</td>\n      <td>1</td>\n      <td>470</td>\n      <td>5</td>\n      <td>0.7000</td>\n      <td>0.3000</td>\n      <td>21</td>\n      <td>9</td>\n      <td>2.4181</td>\n      <td>0.0007</td>\n      <td>0.0003</td>\n      <td>0.0004</td>\n      <td>0-0:0:2.418</td>\n      <td>0-0:0:1.079</td>\n      <td>0-0:0:1.338</td>\n      <td>1079091181</td>\n      <td>1338968378</td>\n      <td>83940</td>\n      <td>8478120861627832</td>\n      <td>0</td>\n      <td>16</td>\n      <td>m3h005</td>\n      <td>2.1.1</td>\n      <td>2021.6.01</td>\n      <td>chief-refactored-2-thesis</td>\n      <td>NaN</td>\n      <td>df6c69df</td>\n      <td>False</td>\n      <td>False</td>\n      <td>0</td>\n      <td>0</td>\n      <td>5</td>\n      <td>5</td>\n      <td>48000</td>\n      <td>464</td>\n      <td>315</td>\n      <td>315</td>\n      <td>208</td>\n      <td>238</td>\n      <td>149</td>\n      <td>149</td>\n      <td>256</td>\n      <td>226</td>\n      <td>290.0000</td>\n      <td>100</td>\n      <td>...</td>\n      <td>122.0000</td>\n      <td>97.0000</td>\n      <td>94.0000</td>\n      <td>124.0000</td>\n      <td>100.0000</td>\n      <td>14337122509.0000</td>\n      <td>0.0000</td>\n      <td>0.0000</td>\n      <td>0.0000</td>\n      <td>0.0000</td>\n      <td>0.0000</td>\n      <td>0.0000</td>\n      <td>0.0000</td>\n      <td>0.0000</td>\n      <td>0.0000</td>\n      <td>3042048.0000</td>\n      <td>497005909.0000</td>\n      <td>447446664.0000</td>\n      <td>1197307928.0000</td>\n      <td>1391885264.0000</td>\n      <td>2875543330.0000</td>\n      <td>3211967942.0000</td>\n      <td>484158653.0000</td>\n      <td>7070909153.0000</td>\n      <td>1881115540.0000</td>\n      <td>11033657352.0000</td>\n      <td>0.0000</td>\n      <td>0.0000</td>\n      <td>0.0000</td>\n      <td>0.0000</td>\n      <td>0.0000</td>\n      <td>0.0000</td>\n      <td>0.0000</td>\n      <td>0.0000</td>\n      <td>0.0000</td>\n      <td>0.0000</td>\n      <td>0.0000</td>\n      <td>0.0000</td>\n      <td>0.0000</td>\n      <td>0.0000</td>\n      <td>0.0000</td>\n      <td>0.5847</td>\n      <td>0.0918</td>\n      <td>0.3253</td>\n      <td>0.2076</td>\n      <td>-data=../data/ -archive=Univariate2018_ts -ove...</td>\n      <td>0.0000</td>\n      <td>0.0000</td>\n      <td>0.0000</td>\n      <td>0.0000</td>\n    </tr>\n    <tr>\n      <th>3</th>\n      <td>3</td>\n      <td>k100e1</td>\n      <td>13-06-2021 19:42:24</td>\n      <td>BeetleFly</td>\n      <td>20</td>\n      <td>20</td>\n      <td>1</td>\n      <td>512</td>\n      <td>2</td>\n      <td>0.6500</td>\n      <td>0.3500</td>\n      <td>13</td>\n      <td>7</td>\n      <td>1.3727</td>\n      <td>0.0004</td>\n      <td>0.0002</td>\n      <td>0.0002</td>\n      <td>0-0:0:1.372</td>\n      <td>0-0:0:0.596</td>\n      <td>0-0:0:0.776</td>\n      <td>596536920</td>\n      <td>776138358</td>\n      <td>117772</td>\n      <td>8478120861627832</td>\n      <td>0</td>\n      <td>16</td>\n      <td>m3h005</td>\n      <td>2.1.1</td>\n      <td>2021.6.01</td>\n      <td>chief-refactored-2-thesis</td>\n      <td>NaN</td>\n      <td>df6c69df</td>\n      <td>False</td>\n      <td>False</td>\n      <td>0</td>\n      <td>0</td>\n      <td>2</td>\n      <td>2</td>\n      <td>48000</td>\n      <td>456</td>\n      <td>213</td>\n      <td>213</td>\n      <td>147</td>\n      <td>271</td>\n      <td>123</td>\n      <td>123</td>\n      <td>189</td>\n      <td>185</td>\n      <td>195.0000</td>\n      <td>100</td>\n      <td>...</td>\n      <td>123.0000</td>\n      <td>98.0000</td>\n      <td>86.0000</td>\n      <td>95.0000</td>\n      <td>93.0000</td>\n      <td>8454996953.0000</td>\n      <td>0.0000</td>\n      <td>0.0000</td>\n      <td>0.0000</td>\n      <td>0.0000</td>\n      <td>0.0000</td>\n      <td>0.0000</td>\n      <td>0.0000</td>\n      <td>0.0000</td>\n      <td>0.0000</td>\n      <td>2227365.0000</td>\n      <td>396059319.0000</td>\n      <td>264020223.0000</td>\n      <td>601003399.0000</td>\n      <td>607146447.0000</td>\n      <td>2214497735.0000</td>\n      <td>4040519282.0000</td>\n      <td>489359118.0000</td>\n      <td>4085041121.0000</td>\n      <td>790970369.0000</td>\n      <td>4963281982.0000</td>\n      <td>0.0000</td>\n      <td>0.0000</td>\n      <td>0.0000</td>\n      <td>0.0000</td>\n      <td>0.0000</td>\n      <td>0.0000</td>\n      <td>0.0000</td>\n      <td>0.0000</td>\n      <td>0.0000</td>\n      <td>0.0000</td>\n      <td>0.0000</td>\n      <td>0.0000</td>\n      <td>0.0000</td>\n      <td>0.0000</td>\n      <td>0.0000</td>\n      <td>0.6295</td>\n      <td>0.1299</td>\n      <td>0.1926</td>\n      <td>0.0775</td>\n      <td>-data=../data/ -archive=Univariate2018_ts -ove...</td>\n      <td>0.0000</td>\n      <td>0.0000</td>\n      <td>0.0000</td>\n      <td>0.0000</td>\n    </tr>\n    <tr>\n      <th>4</th>\n      <td>4</td>\n      <td>k100e1</td>\n      <td>13-06-2021 19:42:22</td>\n      <td>BirdChicken</td>\n      <td>20</td>\n      <td>20</td>\n      <td>1</td>\n      <td>512</td>\n      <td>2</td>\n      <td>0.8500</td>\n      <td>0.1500</td>\n      <td>17</td>\n      <td>3</td>\n      <td>1.4695</td>\n      <td>0.0004</td>\n      <td>0.0002</td>\n      <td>0.0002</td>\n      <td>0-0:0:1.469</td>\n      <td>0-0:0:0.698</td>\n      <td>0-0:0:0.771</td>\n      <td>698475429</td>\n      <td>771009258</td>\n      <td>74144</td>\n      <td>8478120861627832</td>\n      <td>0</td>\n      <td>16</td>\n      <td>m3h005</td>\n      <td>2.1.1</td>\n      <td>2021.6.01</td>\n      <td>chief-refactored-2-thesis</td>\n      <td>NaN</td>\n      <td>df6c69df</td>\n      <td>False</td>\n      <td>False</td>\n      <td>0</td>\n      <td>0</td>\n      <td>2</td>\n      <td>2</td>\n      <td>48000</td>\n      <td>336</td>\n      <td>146</td>\n      <td>146</td>\n      <td>173</td>\n      <td>202</td>\n      <td>70</td>\n      <td>70</td>\n      <td>163</td>\n      <td>134</td>\n      <td>216.0000</td>\n      <td>100</td>\n      <td>...</td>\n      <td>76.0000</td>\n      <td>84.0000</td>\n      <td>91.0000</td>\n      <td>84.0000</td>\n      <td>101.0000</td>\n      <td>9560607713.0000</td>\n      <td>0.0000</td>\n      <td>0.0000</td>\n      <td>0.0000</td>\n      <td>0.0000</td>\n      <td>0.0000</td>\n      <td>0.0000</td>\n      <td>0.0000</td>\n      <td>0.0000</td>\n      <td>0.0000</td>\n      <td>2192888.0000</td>\n      <td>344598952.0000</td>\n      <td>459372227.0000</td>\n      <td>661494400.0000</td>\n      <td>566249672.0000</td>\n      <td>1736267857.0000</td>\n      <td>2843990724.0000</td>\n      <td>556396867.0000</td>\n      <td>5058859088.0000</td>\n      <td>903223116.0000</td>\n      <td>6308658431.0000</td>\n      <td>0.0000</td>\n      <td>0.0000</td>\n      <td>0.0000</td>\n      <td>0.0000</td>\n      <td>0.0000</td>\n      <td>0.0000</td>\n      <td>0.0000</td>\n      <td>0.0000</td>\n      <td>0.0000</td>\n      <td>0.0000</td>\n      <td>0.0000</td>\n      <td>0.0000</td>\n      <td>0.0000</td>\n      <td>0.0000</td>\n      <td>0.0000</td>\n      <td>0.6985</td>\n      <td>0.1113</td>\n      <td>0.2019</td>\n      <td>0.0927</td>\n      <td>-data=../data/ -archive=Univariate2018_ts -ove...</td>\n      <td>0.0000</td>\n      <td>0.0000</td>\n      <td>0.0000</td>\n      <td>0.0000</td>\n    </tr>\n  </tbody>\n</table>\n<p>5 rows × 166 columns</p>\n</div>"
     },
     "metadata": {},
     "output_type": "display_data"
    }
   ],
   "source": [
    "load_modules()\n",
    "\n",
    "\n",
    "INPUT = f\"E:/git/experiments/thesis/out/ch3/\"\n",
    "OUTPUT = f\"{INPUT}/.out\"\n",
    "exp = load_experiments(input_dir = INPUT, output_dir = OUTPUT,\n",
    "                       # include=['k100e1','k100e2','k100e5','k100e10'], exclude=None,\n",
    "                       include=['k100e1', 'k100e2'], exclude=None,\n",
    "                       use_cache=True, save_intermediate=False, save=True)\n",
    "\n",
    "print(exp.keys())\n",
    "display(exp['k100e1'].head())"
   ],
   "metadata": {
    "collapsed": false,
    "pycharm": {
     "name": "#%%\n"
    }
   }
  },
  {
   "cell_type": "code",
   "execution_count": 39,
   "outputs": [
    {
     "name": "stdout",
     "output_type": "stream",
     "text": [
      "aggregating.py 18-6-2021.1\n"
     ]
    },
    {
     "data": {
      "text/plain": "                           dataset  k100e1  k100e2\n0                            Adiac  0.7136  0.7379\n1                        ArrowHead  0.8400  0.8657\n2                             Beef  0.6833  0.7167\n3                        BeetleFly  0.6750  0.7750\n4                      BirdChicken  0.8250  0.8000\n5                              CBF  0.9828  0.9844\n6                              Car  0.8167  0.8417\n7            ChlorineConcentration  0.6280  0.6294\n8                     CinCECGTorso  0.8949  0.9127\n9                           Coffee  1.0000  1.0000\n10                       Computers  0.5980  0.6200\n11                        CricketX  0.7603  0.7782\n12                        CricketY  0.7859  0.7859\n13                        CricketZ  0.7756  0.7731\n14             DiatomSizeReduction  0.9673  0.9690\n15    DistalPhalanxOutlineAgeGroup  0.7194  0.7338\n16     DistalPhalanxOutlineCorrect  0.7681  0.7754\n17                 DistalPhalanxTW  0.6691  0.6475\n18                          ECG200  0.8950  0.8950\n19                         ECG5000  0.9404  0.9380\n20                     ECGFiveDays  0.7787  0.8014\n21                     Earthquakes  0.7482  0.7518\n22                 ElectricDevices  0.6799  0.6845\n23                         FaceAll  0.9124  0.9281\n24                        FaceFour  0.9148  0.9148\n25                        FacesUCR  0.9210  0.9256\n26                      FiftyWords  0.7791  0.8088\n27                            Fish  0.9057  0.9200\n28                           FordA  0.8409  0.8360\n29                           FordB  0.6710  0.6870\n30                        GunPoint  0.9933  1.0000\n31                             Ham  0.6667  0.6667\n32                    HandOutlines  0.9041  0.9122\n33                         Haptics  0.4529  0.4545\n34                         Herring  0.5938  0.6406\n35                     InlineSkate  0.4173  0.4527\n36             InsectWingbeatSound  0.6152  0.6139\n37                ItalyPowerDemand  0.9665  0.9670\n38          LargeKitchenAppliances  0.7253  0.7293\n39                      Lightning2  0.8689  0.8525\n40                      Lightning7  0.7808  0.8151\n41                          Mallat  0.9565  0.9565\n42                            Meat  0.9333  0.9333\n43                   MedicalImages  0.7638  0.7572\n44    MiddlePhalanxOutlineAgeGroup  0.5909  0.5714\n45     MiddlePhalanxOutlineCorrect  0.8247  0.8247\n46                 MiddlePhalanxTW  0.5422  0.5390\n47                      MoteStrain  0.8858  0.8894\n48      NonInvasiveFetalECGThorax1  0.9020  0.9005\n49      NonInvasiveFetalECGThorax2  0.9344  0.9346\n50                         OSULeaf  0.7190  0.7521\n51                        OliveOil  0.8667  0.8667\n52        PhalangesOutlinesCorrect  0.8054  0.8205\n53                         Phoneme  0.2919  0.3125\n54                           Plane  1.0000  1.0000\n55  ProximalPhalanxOutlineAgeGroup  0.8488  0.8341\n56   ProximalPhalanxOutlineCorrect  0.8522  0.8574\n57               ProximalPhalanxTW  0.7707  0.7732\n58            RefrigerationDevices  0.5307  0.5333\n59                      ScreenType  0.4440  0.4400\n60                     ShapeletSim  0.7306  0.7167\n61                       ShapesAll  0.8433  0.8583\n62          SmallKitchenAppliances  0.7440  0.7480\n63           SonyAIBORobotSurface1  0.8095  0.8220\n64           SonyAIBORobotSurface2  0.8809  0.8783\n65                 StarLightCurves  0.9771  0.9795\n66                      Strawberry  0.9581  0.9595\n67                     SwedishLeaf  0.9440  0.9416\n68                         Symbols  0.9477  0.9543\n69                SyntheticControl  0.9950  0.9950\n70                ToeSegmentation1  0.8333  0.8860\n71                ToeSegmentation2  0.8462  0.8654\n72                           Trace  0.9900  1.0000\n73                      TwoLeadECG  0.9363  0.9680\n74                     TwoPatterns  0.9990  0.9995\n75          UWaveGestureLibraryAll  0.9687  0.9710\n76            UWaveGestureLibraryX  0.8102  0.8220\n77            UWaveGestureLibraryY  0.7528  0.7559\n78            UWaveGestureLibraryZ  0.7483  0.7542\n79                           Wafer  0.9942  0.9946\n80                            Wine  0.5370  0.5278\n81                    WordSynonyms  0.7328  0.7469\n82                           Worms  0.6364  0.6753\n83                   WormsTwoClass  0.7273  0.7532\n84                            Yoga  0.8698  0.8685",
      "text/html": "<div>\n<style scoped>\n    .dataframe tbody tr th:only-of-type {\n        vertical-align: middle;\n    }\n\n    .dataframe tbody tr th {\n        vertical-align: top;\n    }\n\n    .dataframe thead th {\n        text-align: right;\n    }\n</style>\n<table border=\"1\" class=\"dataframe\">\n  <thead>\n    <tr style=\"text-align: right;\">\n      <th></th>\n      <th>dataset</th>\n      <th>k100e1</th>\n      <th>k100e2</th>\n    </tr>\n  </thead>\n  <tbody>\n    <tr>\n      <th>0</th>\n      <td>Adiac</td>\n      <td>0.7136</td>\n      <td>0.7379</td>\n    </tr>\n    <tr>\n      <th>1</th>\n      <td>ArrowHead</td>\n      <td>0.8400</td>\n      <td>0.8657</td>\n    </tr>\n    <tr>\n      <th>2</th>\n      <td>Beef</td>\n      <td>0.6833</td>\n      <td>0.7167</td>\n    </tr>\n    <tr>\n      <th>3</th>\n      <td>BeetleFly</td>\n      <td>0.6750</td>\n      <td>0.7750</td>\n    </tr>\n    <tr>\n      <th>4</th>\n      <td>BirdChicken</td>\n      <td>0.8250</td>\n      <td>0.8000</td>\n    </tr>\n    <tr>\n      <th>5</th>\n      <td>CBF</td>\n      <td>0.9828</td>\n      <td>0.9844</td>\n    </tr>\n    <tr>\n      <th>6</th>\n      <td>Car</td>\n      <td>0.8167</td>\n      <td>0.8417</td>\n    </tr>\n    <tr>\n      <th>7</th>\n      <td>ChlorineConcentration</td>\n      <td>0.6280</td>\n      <td>0.6294</td>\n    </tr>\n    <tr>\n      <th>8</th>\n      <td>CinCECGTorso</td>\n      <td>0.8949</td>\n      <td>0.9127</td>\n    </tr>\n    <tr>\n      <th>9</th>\n      <td>Coffee</td>\n      <td>1.0000</td>\n      <td>1.0000</td>\n    </tr>\n    <tr>\n      <th>10</th>\n      <td>Computers</td>\n      <td>0.5980</td>\n      <td>0.6200</td>\n    </tr>\n    <tr>\n      <th>11</th>\n      <td>CricketX</td>\n      <td>0.7603</td>\n      <td>0.7782</td>\n    </tr>\n    <tr>\n      <th>12</th>\n      <td>CricketY</td>\n      <td>0.7859</td>\n      <td>0.7859</td>\n    </tr>\n    <tr>\n      <th>13</th>\n      <td>CricketZ</td>\n      <td>0.7756</td>\n      <td>0.7731</td>\n    </tr>\n    <tr>\n      <th>14</th>\n      <td>DiatomSizeReduction</td>\n      <td>0.9673</td>\n      <td>0.9690</td>\n    </tr>\n    <tr>\n      <th>15</th>\n      <td>DistalPhalanxOutlineAgeGroup</td>\n      <td>0.7194</td>\n      <td>0.7338</td>\n    </tr>\n    <tr>\n      <th>16</th>\n      <td>DistalPhalanxOutlineCorrect</td>\n      <td>0.7681</td>\n      <td>0.7754</td>\n    </tr>\n    <tr>\n      <th>17</th>\n      <td>DistalPhalanxTW</td>\n      <td>0.6691</td>\n      <td>0.6475</td>\n    </tr>\n    <tr>\n      <th>18</th>\n      <td>ECG200</td>\n      <td>0.8950</td>\n      <td>0.8950</td>\n    </tr>\n    <tr>\n      <th>19</th>\n      <td>ECG5000</td>\n      <td>0.9404</td>\n      <td>0.9380</td>\n    </tr>\n    <tr>\n      <th>20</th>\n      <td>ECGFiveDays</td>\n      <td>0.7787</td>\n      <td>0.8014</td>\n    </tr>\n    <tr>\n      <th>21</th>\n      <td>Earthquakes</td>\n      <td>0.7482</td>\n      <td>0.7518</td>\n    </tr>\n    <tr>\n      <th>22</th>\n      <td>ElectricDevices</td>\n      <td>0.6799</td>\n      <td>0.6845</td>\n    </tr>\n    <tr>\n      <th>23</th>\n      <td>FaceAll</td>\n      <td>0.9124</td>\n      <td>0.9281</td>\n    </tr>\n    <tr>\n      <th>24</th>\n      <td>FaceFour</td>\n      <td>0.9148</td>\n      <td>0.9148</td>\n    </tr>\n    <tr>\n      <th>25</th>\n      <td>FacesUCR</td>\n      <td>0.9210</td>\n      <td>0.9256</td>\n    </tr>\n    <tr>\n      <th>26</th>\n      <td>FiftyWords</td>\n      <td>0.7791</td>\n      <td>0.8088</td>\n    </tr>\n    <tr>\n      <th>27</th>\n      <td>Fish</td>\n      <td>0.9057</td>\n      <td>0.9200</td>\n    </tr>\n    <tr>\n      <th>28</th>\n      <td>FordA</td>\n      <td>0.8409</td>\n      <td>0.8360</td>\n    </tr>\n    <tr>\n      <th>29</th>\n      <td>FordB</td>\n      <td>0.6710</td>\n      <td>0.6870</td>\n    </tr>\n    <tr>\n      <th>30</th>\n      <td>GunPoint</td>\n      <td>0.9933</td>\n      <td>1.0000</td>\n    </tr>\n    <tr>\n      <th>31</th>\n      <td>Ham</td>\n      <td>0.6667</td>\n      <td>0.6667</td>\n    </tr>\n    <tr>\n      <th>32</th>\n      <td>HandOutlines</td>\n      <td>0.9041</td>\n      <td>0.9122</td>\n    </tr>\n    <tr>\n      <th>33</th>\n      <td>Haptics</td>\n      <td>0.4529</td>\n      <td>0.4545</td>\n    </tr>\n    <tr>\n      <th>34</th>\n      <td>Herring</td>\n      <td>0.5938</td>\n      <td>0.6406</td>\n    </tr>\n    <tr>\n      <th>35</th>\n      <td>InlineSkate</td>\n      <td>0.4173</td>\n      <td>0.4527</td>\n    </tr>\n    <tr>\n      <th>36</th>\n      <td>InsectWingbeatSound</td>\n      <td>0.6152</td>\n      <td>0.6139</td>\n    </tr>\n    <tr>\n      <th>37</th>\n      <td>ItalyPowerDemand</td>\n      <td>0.9665</td>\n      <td>0.9670</td>\n    </tr>\n    <tr>\n      <th>38</th>\n      <td>LargeKitchenAppliances</td>\n      <td>0.7253</td>\n      <td>0.7293</td>\n    </tr>\n    <tr>\n      <th>39</th>\n      <td>Lightning2</td>\n      <td>0.8689</td>\n      <td>0.8525</td>\n    </tr>\n    <tr>\n      <th>40</th>\n      <td>Lightning7</td>\n      <td>0.7808</td>\n      <td>0.8151</td>\n    </tr>\n    <tr>\n      <th>41</th>\n      <td>Mallat</td>\n      <td>0.9565</td>\n      <td>0.9565</td>\n    </tr>\n    <tr>\n      <th>42</th>\n      <td>Meat</td>\n      <td>0.9333</td>\n      <td>0.9333</td>\n    </tr>\n    <tr>\n      <th>43</th>\n      <td>MedicalImages</td>\n      <td>0.7638</td>\n      <td>0.7572</td>\n    </tr>\n    <tr>\n      <th>44</th>\n      <td>MiddlePhalanxOutlineAgeGroup</td>\n      <td>0.5909</td>\n      <td>0.5714</td>\n    </tr>\n    <tr>\n      <th>45</th>\n      <td>MiddlePhalanxOutlineCorrect</td>\n      <td>0.8247</td>\n      <td>0.8247</td>\n    </tr>\n    <tr>\n      <th>46</th>\n      <td>MiddlePhalanxTW</td>\n      <td>0.5422</td>\n      <td>0.5390</td>\n    </tr>\n    <tr>\n      <th>47</th>\n      <td>MoteStrain</td>\n      <td>0.8858</td>\n      <td>0.8894</td>\n    </tr>\n    <tr>\n      <th>48</th>\n      <td>NonInvasiveFetalECGThorax1</td>\n      <td>0.9020</td>\n      <td>0.9005</td>\n    </tr>\n    <tr>\n      <th>49</th>\n      <td>NonInvasiveFetalECGThorax2</td>\n      <td>0.9344</td>\n      <td>0.9346</td>\n    </tr>\n    <tr>\n      <th>50</th>\n      <td>OSULeaf</td>\n      <td>0.7190</td>\n      <td>0.7521</td>\n    </tr>\n    <tr>\n      <th>51</th>\n      <td>OliveOil</td>\n      <td>0.8667</td>\n      <td>0.8667</td>\n    </tr>\n    <tr>\n      <th>52</th>\n      <td>PhalangesOutlinesCorrect</td>\n      <td>0.8054</td>\n      <td>0.8205</td>\n    </tr>\n    <tr>\n      <th>53</th>\n      <td>Phoneme</td>\n      <td>0.2919</td>\n      <td>0.3125</td>\n    </tr>\n    <tr>\n      <th>54</th>\n      <td>Plane</td>\n      <td>1.0000</td>\n      <td>1.0000</td>\n    </tr>\n    <tr>\n      <th>55</th>\n      <td>ProximalPhalanxOutlineAgeGroup</td>\n      <td>0.8488</td>\n      <td>0.8341</td>\n    </tr>\n    <tr>\n      <th>56</th>\n      <td>ProximalPhalanxOutlineCorrect</td>\n      <td>0.8522</td>\n      <td>0.8574</td>\n    </tr>\n    <tr>\n      <th>57</th>\n      <td>ProximalPhalanxTW</td>\n      <td>0.7707</td>\n      <td>0.7732</td>\n    </tr>\n    <tr>\n      <th>58</th>\n      <td>RefrigerationDevices</td>\n      <td>0.5307</td>\n      <td>0.5333</td>\n    </tr>\n    <tr>\n      <th>59</th>\n      <td>ScreenType</td>\n      <td>0.4440</td>\n      <td>0.4400</td>\n    </tr>\n    <tr>\n      <th>60</th>\n      <td>ShapeletSim</td>\n      <td>0.7306</td>\n      <td>0.7167</td>\n    </tr>\n    <tr>\n      <th>61</th>\n      <td>ShapesAll</td>\n      <td>0.8433</td>\n      <td>0.8583</td>\n    </tr>\n    <tr>\n      <th>62</th>\n      <td>SmallKitchenAppliances</td>\n      <td>0.7440</td>\n      <td>0.7480</td>\n    </tr>\n    <tr>\n      <th>63</th>\n      <td>SonyAIBORobotSurface1</td>\n      <td>0.8095</td>\n      <td>0.8220</td>\n    </tr>\n    <tr>\n      <th>64</th>\n      <td>SonyAIBORobotSurface2</td>\n      <td>0.8809</td>\n      <td>0.8783</td>\n    </tr>\n    <tr>\n      <th>65</th>\n      <td>StarLightCurves</td>\n      <td>0.9771</td>\n      <td>0.9795</td>\n    </tr>\n    <tr>\n      <th>66</th>\n      <td>Strawberry</td>\n      <td>0.9581</td>\n      <td>0.9595</td>\n    </tr>\n    <tr>\n      <th>67</th>\n      <td>SwedishLeaf</td>\n      <td>0.9440</td>\n      <td>0.9416</td>\n    </tr>\n    <tr>\n      <th>68</th>\n      <td>Symbols</td>\n      <td>0.9477</td>\n      <td>0.9543</td>\n    </tr>\n    <tr>\n      <th>69</th>\n      <td>SyntheticControl</td>\n      <td>0.9950</td>\n      <td>0.9950</td>\n    </tr>\n    <tr>\n      <th>70</th>\n      <td>ToeSegmentation1</td>\n      <td>0.8333</td>\n      <td>0.8860</td>\n    </tr>\n    <tr>\n      <th>71</th>\n      <td>ToeSegmentation2</td>\n      <td>0.8462</td>\n      <td>0.8654</td>\n    </tr>\n    <tr>\n      <th>72</th>\n      <td>Trace</td>\n      <td>0.9900</td>\n      <td>1.0000</td>\n    </tr>\n    <tr>\n      <th>73</th>\n      <td>TwoLeadECG</td>\n      <td>0.9363</td>\n      <td>0.9680</td>\n    </tr>\n    <tr>\n      <th>74</th>\n      <td>TwoPatterns</td>\n      <td>0.9990</td>\n      <td>0.9995</td>\n    </tr>\n    <tr>\n      <th>75</th>\n      <td>UWaveGestureLibraryAll</td>\n      <td>0.9687</td>\n      <td>0.9710</td>\n    </tr>\n    <tr>\n      <th>76</th>\n      <td>UWaveGestureLibraryX</td>\n      <td>0.8102</td>\n      <td>0.8220</td>\n    </tr>\n    <tr>\n      <th>77</th>\n      <td>UWaveGestureLibraryY</td>\n      <td>0.7528</td>\n      <td>0.7559</td>\n    </tr>\n    <tr>\n      <th>78</th>\n      <td>UWaveGestureLibraryZ</td>\n      <td>0.7483</td>\n      <td>0.7542</td>\n    </tr>\n    <tr>\n      <th>79</th>\n      <td>Wafer</td>\n      <td>0.9942</td>\n      <td>0.9946</td>\n    </tr>\n    <tr>\n      <th>80</th>\n      <td>Wine</td>\n      <td>0.5370</td>\n      <td>0.5278</td>\n    </tr>\n    <tr>\n      <th>81</th>\n      <td>WordSynonyms</td>\n      <td>0.7328</td>\n      <td>0.7469</td>\n    </tr>\n    <tr>\n      <th>82</th>\n      <td>Worms</td>\n      <td>0.6364</td>\n      <td>0.6753</td>\n    </tr>\n    <tr>\n      <th>83</th>\n      <td>WormsTwoClass</td>\n      <td>0.7273</td>\n      <td>0.7532</td>\n    </tr>\n    <tr>\n      <th>84</th>\n      <td>Yoga</td>\n      <td>0.8698</td>\n      <td>0.8685</td>\n    </tr>\n  </tbody>\n</table>\n</div>"
     },
     "execution_count": 39,
     "metadata": {},
     "output_type": "execute_result"
    }
   ],
   "source": [
    "%run \"E:/git/dotnet54/TS-CHIEF-DEV/experiments/python/aggregating\"\n",
    "\n",
    "exp['k100e1'].head()\n",
    "\n",
    "get_agg_matrix(exp, ['k100e1', 'k100e2'], 'accuracy')"
   ],
   "metadata": {
    "collapsed": false,
    "pycharm": {
     "name": "#%%\n"
    }
   }
  },
  {
   "cell_type": "code",
   "execution_count": 26,
   "metadata": {
    "pycharm": {
     "name": "#%%\n"
    }
   },
   "outputs": [
    {
     "name": "stdout",
     "output_type": "stream",
     "text": [
      "The autoreload extension is already loaded. To reload it, use:\n",
      "  %reload_ext autoreload\n",
      "utils.py 29-4-2021.1\n",
      "PROJECT_DIR: E:/git/dotnet54/TS-CHIEF-DEV/\n"
     ]
    }
   ],
   "source": [
    "%load_ext autoreload\n",
    "%autoreload 2\n",
    "\n",
    "%run \"E:/git/dotnet54/TS-CHIEF-DEV/experiments/python/utils\"\n",
    "\n",
    "# from experiments.python.loading import *\n",
    "\n",
    "INPUT = f\"E:/git/experiments/thesis/out/0105/\"\n",
    "OUTPUT = f\"E:/git/dotnet54/TS-CHIEF-DEV/experiments/thesis/data/tmp/\"\n",
    "\n",
    "# tmp =  load_forest_csv(\"k500e5\", input_dir=INPUT, output_dir=OUTPUT, num_folds=1, num_repeats=1,\n",
    "#                 save_intermediate=True, save=True, verbosity=0)\n",
    "# tmp.head()"
   ]
  },
  {
   "cell_type": "markdown",
   "metadata": {
    "pycharm": {
     "name": "#%% md\n"
    }
   },
   "source": [
    "## Experiments"
   ]
  },
  {
   "cell_type": "code",
   "execution_count": null,
   "metadata": {
    "pycharm": {
     "name": "#%%\n"
    }
   },
   "outputs": [],
   "source": [
    "\n",
    "load_forest_csv(\"k500e5\", input_dir=INPUT, output_dir=OUTPUT, num_folds=1, num_repeats=1,\n",
    "                save_intermediate=True, save=True, verbosity=0)\n",
    "load_forest_csv(\"k500b100\", input_dir=INPUT, output_dir=OUTPUT, num_folds=1, num_repeats=1,\n",
    "                save_intermediate=True, save=True, verbosity=0)\n",
    "load_forest_csv(\"k500r100\", input_dir=INPUT, output_dir=OUTPUT, num_folds=1, num_repeats=1,\n",
    "                save_intermediate=True, save=True, verbosity=0)\n",
    "\n",
    "load_forest_csv(\"k500b100_bv1\", input_dir=INPUT, output_dir=OUTPUT, num_folds=1, num_repeats=1,\n",
    "                save_intermediate=True, save=True, verbosity=0)\n",
    "load_forest_csv(\"k500r100_rv1\", input_dir=INPUT, output_dir=OUTPUT, num_folds=1, num_repeats=1,\n",
    "                save_intermediate=True, save=True, verbosity=0)"
   ]
  },
  {
   "cell_type": "markdown",
   "metadata": {},
   "source": [
    "## WORK AREA"
   ]
  },
  {
   "cell_type": "code",
   "execution_count": 45,
   "metadata": {},
   "outputs": [
    {
     "name": "stdout",
     "output_type": "stream",
     "text": [
      "plotting.py 29-4-2021.1\n"
     ]
    }
   ],
   "source": [
    "%run \"E:/git/dotnet54/TS-CHIEF-DEV/experiments/python/plotting\""
   ]
  },
  {
   "cell_type": "code",
   "execution_count": 46,
   "metadata": {
    "pycharm": {
     "name": "#%%\n"
    }
   },
   "outputs": [
    {
     "ename": "TypeError",
     "evalue": "'NoneType' object is not subscriptable",
     "output_type": "error",
     "traceback": [
      "\u001B[1;31m---------------------------------------------------------------------------\u001B[0m",
      "\u001B[1;31mTypeError\u001B[0m                                 Traceback (most recent call last)",
      "\u001B[1;32m<ipython-input-46-9ba78be0e477>\u001B[0m in \u001B[0;36m<module>\u001B[1;34m\u001B[0m\n\u001B[0;32m      6\u001B[0m \u001B[1;32mfrom\u001B[0m \u001B[0mplotting\u001B[0m \u001B[1;32mimport\u001B[0m \u001B[0mscatter\u001B[0m\u001B[1;33m\u001B[0m\u001B[1;33m\u001B[0m\u001B[0m\n\u001B[0;32m      7\u001B[0m \u001B[1;33m\u001B[0m\u001B[0m\n\u001B[1;32m----> 8\u001B[1;33m \u001B[0mscatter\u001B[0m\u001B[1;33m(\u001B[0m\u001B[0mtmp\u001B[0m\u001B[1;33m[\u001B[0m\u001B[1;34m'accuracy_x'\u001B[0m\u001B[1;33m]\u001B[0m\u001B[1;33m,\u001B[0m \u001B[0mtmp\u001B[0m\u001B[1;33m[\u001B[0m\u001B[1;34m'accuracy_y'\u001B[0m\u001B[1;33m]\u001B[0m\u001B[1;33m)\u001B[0m\u001B[1;33m\u001B[0m\u001B[1;33m\u001B[0m\u001B[0m\n\u001B[0m",
      "\u001B[1;32mE:\\git\\dotnet54\\TS-CHIEF-DEV\\experiments\\python\\plotting.py\u001B[0m in \u001B[0;36mscatter\u001B[1;34m(xdf, ydf, exp, yexp, xcol, ycol, xlabel, ylabel, match_on, label_datasets, figsize, output_dir, file, archive_info, color, size, annotate, ant_delta, ant_max_len, ant_col, xlim, ylim)\u001B[0m\n\u001B[0;32m     36\u001B[0m     \u001B[1;32melse\u001B[0m\u001B[1;33m:\u001B[0m\u001B[1;33m\u001B[0m\u001B[1;33m\u001B[0m\u001B[0m\n\u001B[0;32m     37\u001B[0m         \u001B[0mxkey\u001B[0m \u001B[1;33m=\u001B[0m \u001B[0mxdf\u001B[0m\u001B[1;33m\u001B[0m\u001B[1;33m\u001B[0m\u001B[0m\n\u001B[1;32m---> 38\u001B[1;33m         \u001B[0mxdf\u001B[0m \u001B[1;33m=\u001B[0m \u001B[0mexp\u001B[0m\u001B[1;33m[\u001B[0m\u001B[0mxdf\u001B[0m\u001B[1;33m]\u001B[0m\u001B[1;33m\u001B[0m\u001B[1;33m\u001B[0m\u001B[0m\n\u001B[0m\u001B[0;32m     39\u001B[0m         \u001B[0mxlabel\u001B[0m \u001B[1;33m=\u001B[0m \u001B[0mxkey\u001B[0m\u001B[1;33m\u001B[0m\u001B[1;33m\u001B[0m\u001B[0m\n\u001B[0;32m     40\u001B[0m \u001B[1;33m\u001B[0m\u001B[0m\n",
      "\u001B[1;31mTypeError\u001B[0m: 'NoneType' object is not subscriptable"
     ]
    }
   ],
   "source": [
    "# tmp = read_csv(\"k500b100.all_forest\", input_dir=OUTPUT)\n",
    "\n",
    "tmp = read_and_merge_csv(\"k500b100.all_forest\", \"k500b100_bv1.all_forest\", input_dir=OUTPUT)[0]\n",
    "tmp.head()\n",
    "\n",
    "from plotting import scatter \n",
    "\n",
    "scatter(tmp['accuracy_x'], tmp['accuracy_y'])\n"
   ]
  },
  {
   "cell_type": "code",
   "execution_count": null,
   "metadata": {
    "pycharm": {
     "name": "#%%\n"
    }
   },
   "outputs": [],
   "source": []
  },
  {
   "cell_type": "code",
   "execution_count": null,
   "metadata": {
    "pycharm": {
     "name": "#%%\n"
    }
   },
   "outputs": [],
   "source": [
    "load_modules()\n",
    "\n",
    "# %run \"E:/git/dotnet54/TS-CHIEF-DEV/experiments/python/utils\"\n",
    "\n",
    "INPUT = f\"E:/git/experiments/mpf/11-2-2020/0704/topk/\"\n",
    "OUTPUT = f\"E:/git/experiments/mpf/11-2-2020/0704/topk/\"\n",
    "exp_topk = load_experiments(input_dir = INPUT, output_dir = OUTPUT)\n",
    "\n",
    "print(exp_topk.keys())"
   ]
  },
  {
   "cell_type": "code",
   "execution_count": null,
   "metadata": {
    "pycharm": {
     "name": "#%%\n"
    }
   },
   "outputs": [],
   "source": [
    "INPUT = f\"{PROJECT_DIR}/out/test/topk/\"\n",
    "OUTPUT = f\"{PROJECT_DIR}/out/test/topk/\"\n",
    "\n",
    "df_exp = load_experiments(input_dir=INPUT, output_dir=OUTPUT)"
   ]
  }
 ],
 "metadata": {
  "kernelspec": {
   "name": "pycharm-f15f7856",
   "language": "python",
   "display_name": "PyCharm (jupyter)"
  },
  "language_info": {
   "codemirror_mode": {
    "name": "ipython",
    "version": 3
   },
   "file_extension": ".py",
   "mimetype": "text/x-python",
   "name": "python",
   "nbconvert_exporter": "python",
   "pygments_lexer": "ipython3",
   "version": "3.8.5"
  }
 },
 "nbformat": 4,
 "nbformat_minor": 4
}